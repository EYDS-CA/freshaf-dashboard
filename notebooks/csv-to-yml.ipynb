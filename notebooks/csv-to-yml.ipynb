{
 "cells": [
  {
   "cell_type": "code",
   "execution_count": 3,
   "metadata": {},
   "outputs": [],
   "source": [
    "import pandas as pd\n",
    "import yaml\n",
    "from math import isnan"
   ]
  },
  {
   "cell_type": "code",
   "execution_count": 9,
   "metadata": {},
   "outputs": [],
   "source": [
    "VERSION = \"2.0\""
   ]
  },
  {
   "cell_type": "code",
   "execution_count": 10,
   "metadata": {},
   "outputs": [],
   "source": [
    "df = pd.read_csv('./freshaf-{}.csv'.format(VERSION))\n",
    "df = df.drop(columns=[c for c in df.columns if c.startswith('Unnamed')])\n",
    "entries = df.to_dict('records')"
   ]
  },
  {
   "cell_type": "code",
   "execution_count": 11,
   "metadata": {},
   "outputs": [],
   "source": [
    "import base64\n",
    "import hashlib\n",
    "\n",
    "def short_hash(text):\n",
    "    hasher = hashlib.md5(text.encode('utf-8'))\n",
    "    return str(base64.b64encode(hasher.digest()[:8]).decode('utf-8'))"
   ]
  },
  {
   "cell_type": "code",
   "execution_count": 12,
   "metadata": {},
   "outputs": [],
   "source": [
    "default_levels = {\n",
    "    'bronze': 200,\n",
    "    'silver': 500,\n",
    "    'gold': 1000\n",
    "}\n",
    "\n",
    "thresholds = {\n",
    "    'velocity': default_levels.copy(),\n",
    "    'security': default_levels.copy(),\n",
    "    'quality': default_levels.copy(),\n",
    "    'resilience': default_levels.copy()\n",
    "}"
   ]
  },
  {
   "cell_type": "code",
   "execution_count": 15,
   "metadata": {},
   "outputs": [],
   "source": [
    "questions = []\n",
    "for entry in entries:\n",
    "    scores = {}\n",
    "    question = {\n",
    "        'id': entry['id'] if 'id' in entry else short_hash(entry['summary']),\n",
    "        'summary': entry['summary'],\n",
    "        'points': scores\n",
    "    }\n",
    "    \n",
    "    if isinstance(entry['description'], str):\n",
    "        question['description'] = entry['description']\n",
    "    \n",
    "    has_points = False\n",
    "    for category in ['velocity', 'quality', 'security', 'resilience']:\n",
    "        if entry[category] and not isnan(entry[category]):\n",
    "            scores[category] = int(entry[category])\n",
    "            has_points = True\n",
    "            \n",
    "    if has_points:\n",
    "        questions.append(question)\n",
    "    \n",
    "result = {\n",
    "    'version': VERSION,\n",
    "    'thresholds': thresholds,\n",
    "    'questions': questions\n",
    "}\n",
    "\n",
    "with open('./freshaf-{}.yml'.format(VERSION), 'w') as file:\n",
    "    yaml.dump(result, file, default_flow_style=False, sort_keys=False)"
   ]
  },
  {
   "cell_type": "code",
   "execution_count": null,
   "metadata": {},
   "outputs": [],
   "source": []
  }
 ],
 "metadata": {
  "kernelspec": {
   "display_name": "Python 3",
   "language": "python",
   "name": "python3"
  },
  "language_info": {
   "codemirror_mode": {
    "name": "ipython",
    "version": 3
   },
   "file_extension": ".py",
   "mimetype": "text/x-python",
   "name": "python",
   "nbconvert_exporter": "python",
   "pygments_lexer": "ipython3",
   "version": "3.8.3"
  }
 },
 "nbformat": 4,
 "nbformat_minor": 4
}
